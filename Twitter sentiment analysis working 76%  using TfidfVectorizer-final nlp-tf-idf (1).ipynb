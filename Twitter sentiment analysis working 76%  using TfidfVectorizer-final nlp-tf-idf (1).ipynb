{
 "cells": [
  {
   "cell_type": "code",
   "execution_count": 1,
   "id": "89a257c3",
   "metadata": {},
   "outputs": [],
   "source": [
    "## for data\n",
    "import json\n",
    "## for bag-of-words\n",
    "from sklearn import feature_extraction,feature_selection , model_selection, naive_bayes, pipeline, manifold, preprocessing\n",
    "## for word embedding\n",
    "import gensim\n",
    "import gensim.downloader as gensim_api\n",
    "import transformers\n",
    "import re\n",
    "import numpy as np\n",
    "import pandas as pd\n",
    "import nltk\n",
    "import string\n",
    "import tensorflow\n",
    "from nltk.corpus import stopwords\n",
    "# plotting\n",
    "import seaborn as sns\n",
    "import matplotlib.pyplot as plt\n",
    "# nltk\n",
    "from nltk.stem import WordNetLemmatizer\n",
    "# sklearn\n",
    "from sklearn.svm import LinearSVC\n",
    "from sklearn.naive_bayes import BernoulliNB\n",
    "from sklearn.linear_model import LogisticRegression\n",
    "from sklearn.model_selection import train_test_split\n",
    "from sklearn.feature_extraction.text import TfidfVectorizer\n",
    "from sklearn.metrics import confusion_matrix, classification_report"
   ]
  },
  {
   "cell_type": "code",
   "execution_count": 2,
   "id": "5e52d90c",
   "metadata": {},
   "outputs": [
    {
     "data": {
      "text/html": [
       "<div>\n",
       "<style scoped>\n",
       "    .dataframe tbody tr th:only-of-type {\n",
       "        vertical-align: middle;\n",
       "    }\n",
       "\n",
       "    .dataframe tbody tr th {\n",
       "        vertical-align: top;\n",
       "    }\n",
       "\n",
       "    .dataframe thead th {\n",
       "        text-align: right;\n",
       "    }\n",
       "</style>\n",
       "<table border=\"1\" class=\"dataframe\">\n",
       "  <thead>\n",
       "    <tr style=\"text-align: right;\">\n",
       "      <th></th>\n",
       "      <th>target</th>\n",
       "      <th>ids</th>\n",
       "      <th>date</th>\n",
       "      <th>flag</th>\n",
       "      <th>user</th>\n",
       "      <th>text</th>\n",
       "    </tr>\n",
       "  </thead>\n",
       "  <tbody>\n",
       "    <tr>\n",
       "      <th>1346931</th>\n",
       "      <td>4</td>\n",
       "      <td>2044428191</td>\n",
       "      <td>Fri Jun 05 09:20:38 PDT 2009</td>\n",
       "      <td>NO_QUERY</td>\n",
       "      <td>h</td>\n",
       "      <td>@ElizabethN We're going to leave that up to yo...</td>\n",
       "    </tr>\n",
       "    <tr>\n",
       "      <th>907923</th>\n",
       "      <td>4</td>\n",
       "      <td>1695965339</td>\n",
       "      <td>Mon May 04 07:19:52 PDT 2009</td>\n",
       "      <td>NO_QUERY</td>\n",
       "      <td>StaciNichole18</td>\n",
       "      <td>remember, dont let your small list cover your ...</td>\n",
       "    </tr>\n",
       "    <tr>\n",
       "      <th>864564</th>\n",
       "      <td>4</td>\n",
       "      <td>1677311321</td>\n",
       "      <td>Sat May 02 01:26:08 PDT 2009</td>\n",
       "      <td>NO_QUERY</td>\n",
       "      <td>TheRealJordin</td>\n",
       "      <td>@iamMGL A little bit under the weather but Im ...</td>\n",
       "    </tr>\n",
       "    <tr>\n",
       "      <th>1500323</th>\n",
       "      <td>4</td>\n",
       "      <td>2071118064</td>\n",
       "      <td>Sun Jun 07 18:51:54 PDT 2009</td>\n",
       "      <td>NO_QUERY</td>\n",
       "      <td>ksmi117</td>\n",
       "      <td>@Azadre Still very exciting. Good luck tomorro...</td>\n",
       "    </tr>\n",
       "    <tr>\n",
       "      <th>1536318</th>\n",
       "      <td>4</td>\n",
       "      <td>2179252803</td>\n",
       "      <td>Mon Jun 15 08:51:12 PDT 2009</td>\n",
       "      <td>NO_QUERY</td>\n",
       "      <td>eviecreeps</td>\n",
       "      <td>Hey, I'm back, tweet me</td>\n",
       "    </tr>\n",
       "  </tbody>\n",
       "</table>\n",
       "</div>"
      ],
      "text/plain": [
       "         target         ids                          date      flag  \\\n",
       "1346931       4  2044428191  Fri Jun 05 09:20:38 PDT 2009  NO_QUERY   \n",
       "907923        4  1695965339  Mon May 04 07:19:52 PDT 2009  NO_QUERY   \n",
       "864564        4  1677311321  Sat May 02 01:26:08 PDT 2009  NO_QUERY   \n",
       "1500323       4  2071118064  Sun Jun 07 18:51:54 PDT 2009  NO_QUERY   \n",
       "1536318       4  2179252803  Mon Jun 15 08:51:12 PDT 2009  NO_QUERY   \n",
       "\n",
       "                   user                                               text  \n",
       "1346931               h  @ElizabethN We're going to leave that up to yo...  \n",
       "907923   StaciNichole18  remember, dont let your small list cover your ...  \n",
       "864564    TheRealJordin  @iamMGL A little bit under the weather but Im ...  \n",
       "1500323         ksmi117  @Azadre Still very exciting. Good luck tomorro...  \n",
       "1536318      eviecreeps                           Hey, I'm back, tweet me   "
      ]
     },
     "execution_count": 2,
     "metadata": {},
     "output_type": "execute_result"
    }
   ],
   "source": [
    "df = pd.read_csv(\"training.1600000.processed.noemoticon.csv\",encoding='ISO-8859-1')\n",
    "df.columns = ['target','ids','date','flag','user','text']\n",
    "df.sample(5)"
   ]
  },
  {
   "cell_type": "code",
   "execution_count": 3,
   "id": "226f5854",
   "metadata": {},
   "outputs": [
    {
     "data": {
      "text/html": [
       "<div>\n",
       "<style scoped>\n",
       "    .dataframe tbody tr th:only-of-type {\n",
       "        vertical-align: middle;\n",
       "    }\n",
       "\n",
       "    .dataframe tbody tr th {\n",
       "        vertical-align: top;\n",
       "    }\n",
       "\n",
       "    .dataframe thead th {\n",
       "        text-align: right;\n",
       "    }\n",
       "</style>\n",
       "<table border=\"1\" class=\"dataframe\">\n",
       "  <thead>\n",
       "    <tr style=\"text-align: right;\">\n",
       "      <th></th>\n",
       "      <th>target</th>\n",
       "      <th>ids</th>\n",
       "      <th>date</th>\n",
       "      <th>flag</th>\n",
       "      <th>user</th>\n",
       "      <th>text</th>\n",
       "    </tr>\n",
       "  </thead>\n",
       "  <tbody>\n",
       "    <tr>\n",
       "      <th>0</th>\n",
       "      <td>0</td>\n",
       "      <td>1467810672</td>\n",
       "      <td>Mon Apr 06 22:19:49 PDT 2009</td>\n",
       "      <td>NO_QUERY</td>\n",
       "      <td>scotthamilton</td>\n",
       "      <td>is upset that he can't update his Facebook by ...</td>\n",
       "    </tr>\n",
       "    <tr>\n",
       "      <th>1</th>\n",
       "      <td>0</td>\n",
       "      <td>1467810917</td>\n",
       "      <td>Mon Apr 06 22:19:53 PDT 2009</td>\n",
       "      <td>NO_QUERY</td>\n",
       "      <td>mattycus</td>\n",
       "      <td>@Kenichan I dived many times for the ball. Man...</td>\n",
       "    </tr>\n",
       "    <tr>\n",
       "      <th>2</th>\n",
       "      <td>0</td>\n",
       "      <td>1467811184</td>\n",
       "      <td>Mon Apr 06 22:19:57 PDT 2009</td>\n",
       "      <td>NO_QUERY</td>\n",
       "      <td>ElleCTF</td>\n",
       "      <td>my whole body feels itchy and like its on fire</td>\n",
       "    </tr>\n",
       "    <tr>\n",
       "      <th>3</th>\n",
       "      <td>0</td>\n",
       "      <td>1467811193</td>\n",
       "      <td>Mon Apr 06 22:19:57 PDT 2009</td>\n",
       "      <td>NO_QUERY</td>\n",
       "      <td>Karoli</td>\n",
       "      <td>@nationwideclass no, it's not behaving at all....</td>\n",
       "    </tr>\n",
       "    <tr>\n",
       "      <th>4</th>\n",
       "      <td>0</td>\n",
       "      <td>1467811372</td>\n",
       "      <td>Mon Apr 06 22:20:00 PDT 2009</td>\n",
       "      <td>NO_QUERY</td>\n",
       "      <td>joy_wolf</td>\n",
       "      <td>@Kwesidei not the whole crew</td>\n",
       "    </tr>\n",
       "  </tbody>\n",
       "</table>\n",
       "</div>"
      ],
      "text/plain": [
       "   target         ids                          date      flag           user  \\\n",
       "0       0  1467810672  Mon Apr 06 22:19:49 PDT 2009  NO_QUERY  scotthamilton   \n",
       "1       0  1467810917  Mon Apr 06 22:19:53 PDT 2009  NO_QUERY       mattycus   \n",
       "2       0  1467811184  Mon Apr 06 22:19:57 PDT 2009  NO_QUERY        ElleCTF   \n",
       "3       0  1467811193  Mon Apr 06 22:19:57 PDT 2009  NO_QUERY         Karoli   \n",
       "4       0  1467811372  Mon Apr 06 22:20:00 PDT 2009  NO_QUERY       joy_wolf   \n",
       "\n",
       "                                                text  \n",
       "0  is upset that he can't update his Facebook by ...  \n",
       "1  @Kenichan I dived many times for the ball. Man...  \n",
       "2    my whole body feels itchy and like its on fire   \n",
       "3  @nationwideclass no, it's not behaving at all....  \n",
       "4                      @Kwesidei not the whole crew   "
      ]
     },
     "execution_count": 3,
     "metadata": {},
     "output_type": "execute_result"
    }
   ],
   "source": [
    "df.head()"
   ]
  },
  {
   "cell_type": "code",
   "execution_count": 4,
   "id": "d4722c0b",
   "metadata": {},
   "outputs": [
    {
     "data": {
      "text/plain": [
       "target     int64\n",
       "ids        int64\n",
       "date      object\n",
       "flag      object\n",
       "user      object\n",
       "text      object\n",
       "dtype: object"
      ]
     },
     "execution_count": 4,
     "metadata": {},
     "output_type": "execute_result"
    }
   ],
   "source": [
    "df.dtypes"
   ]
  },
  {
   "cell_type": "code",
   "execution_count": 5,
   "id": "f7f7ca53",
   "metadata": {},
   "outputs": [
    {
     "data": {
      "text/plain": [
       "0"
      ]
     },
     "execution_count": 5,
     "metadata": {},
     "output_type": "execute_result"
    }
   ],
   "source": [
    "np.sum(df.isnull().any(axis=1))"
   ]
  },
  {
   "cell_type": "code",
   "execution_count": 6,
   "id": "a7f0e7fa",
   "metadata": {},
   "outputs": [
    {
     "name": "stdout",
     "output_type": "stream",
     "text": [
      "Count of columns in the data is:   6\n",
      "Count of rows in the data is:   1599999\n"
     ]
    }
   ],
   "source": [
    "print('Count of columns in the data is:  ', len(df.columns))\n",
    "print('Count of rows in the data is:  ', len(df))"
   ]
  },
  {
   "cell_type": "code",
   "execution_count": 7,
   "id": "50260d88",
   "metadata": {},
   "outputs": [
    {
     "data": {
      "text/plain": [
       "array([0, 4], dtype=int64)"
      ]
     },
     "execution_count": 7,
     "metadata": {},
     "output_type": "execute_result"
    }
   ],
   "source": [
    "df['target'].unique()"
   ]
  },
  {
   "cell_type": "code",
   "execution_count": 8,
   "id": "47a0e29d",
   "metadata": {},
   "outputs": [
    {
     "data": {
      "text/plain": [
       "2"
      ]
     },
     "execution_count": 8,
     "metadata": {},
     "output_type": "execute_result"
    }
   ],
   "source": [
    "df['target'].nunique()"
   ]
  },
  {
   "cell_type": "code",
   "execution_count": 9,
   "id": "e7b984a4",
   "metadata": {},
   "outputs": [
    {
     "data": {
      "image/png": "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\n",
      "text/plain": [
       "<Figure size 432x288 with 1 Axes>"
      ]
     },
     "metadata": {
      "needs_background": "light"
     },
     "output_type": "display_data"
    }
   ],
   "source": [
    "# Plotting the distribution for dataset.\n",
    "ax = df.groupby('target').count().plot(kind='bar', title='Distribution of data',legend=False)\n",
    "ax.set_xticklabels(['Negative','Positive'], rotation=0)\n",
    "# Storing data in lists.\n",
    "text, sentiment = list(df['text']), list(df['target'])"
   ]
  },
  {
   "cell_type": "code",
   "execution_count": 10,
   "id": "5abb7953",
   "metadata": {},
   "outputs": [
    {
     "data": {
      "text/plain": [
       "<AxesSubplot:xlabel='target', ylabel='count'>"
      ]
     },
     "execution_count": 10,
     "metadata": {},
     "output_type": "execute_result"
    },
    {
     "data": {
      "image/png": "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\n",
      "text/plain": [
       "<Figure size 432x288 with 1 Axes>"
      ]
     },
     "metadata": {
      "needs_background": "light"
     },
     "output_type": "display_data"
    }
   ],
   "source": [
    "import seaborn as sns\n",
    "sns.countplot(x='target', data=df)"
   ]
  },
  {
   "cell_type": "code",
   "execution_count": 11,
   "id": "e048a62f",
   "metadata": {},
   "outputs": [
    {
     "data": {
      "text/plain": [
       "array([0, 4], dtype=int64)"
      ]
     },
     "execution_count": 11,
     "metadata": {},
     "output_type": "execute_result"
    }
   ],
   "source": [
    "data=df[['text','target']]\n",
    "data['target'].unique()"
   ]
  },
  {
   "cell_type": "code",
   "execution_count": 12,
   "id": "3b6ed6a0",
   "metadata": {},
   "outputs": [],
   "source": [
    "data_pos = data[data['target'] == 4]\n",
    "data_neg = data[data['target'] == 0]"
   ]
  },
  {
   "cell_type": "code",
   "execution_count": 13,
   "id": "2a7cc328",
   "metadata": {},
   "outputs": [],
   "source": [
    "dataset = pd.concat([data_pos, data_neg])"
   ]
  },
  {
   "cell_type": "code",
   "execution_count": 14,
   "id": "e65caa66",
   "metadata": {},
   "outputs": [
    {
     "data": {
      "text/plain": [
       "799994    sick  spending my day laying in bed listening ...\n",
       "799995                                      gmail is down? \n",
       "799996                        rest in peace farrah! so sad \n",
       "799997    @eric_urbane sounds like a rival is flagging y...\n",
       "799998    has to resit exams over summer...  wishes he w...\n",
       "Name: text, dtype: object"
      ]
     },
     "execution_count": 14,
     "metadata": {},
     "output_type": "execute_result"
    }
   ],
   "source": [
    "# Making statement text in lower case\n",
    "dataset['text']=dataset['text'].str.lower()\n",
    "dataset['text'].tail()"
   ]
  },
  {
   "cell_type": "code",
   "execution_count": 15,
   "id": "ad7ca406",
   "metadata": {},
   "outputs": [
    {
     "name": "stderr",
     "output_type": "stream",
     "text": [
      "[nltk_data] Downloading package stopwords to C:\\Users\\Eswar's\n",
      "[nltk_data]     Dell\\AppData\\Roaming\\nltk_data...\n",
      "[nltk_data]   Package stopwords is already up-to-date!\n"
     ]
    },
    {
     "data": {
      "text/plain": [
       "True"
      ]
     },
     "execution_count": 15,
     "metadata": {},
     "output_type": "execute_result"
    }
   ],
   "source": [
    "nltk.download('stopwords')"
   ]
  },
  {
   "cell_type": "code",
   "execution_count": 16,
   "id": "7d44de68",
   "metadata": {},
   "outputs": [
    {
     "data": {
      "text/plain": [
       "799994    sick spending day laying bed listening @taylor...\n",
       "799995                                          gmail down?\n",
       "799996                               rest peace farrah! sad\n",
       "799997    @eric_urbane sounds like rival flagging ads. m...\n",
       "799998    resit exams summer... wishes worked harder fir...\n",
       "Name: text, dtype: object"
      ]
     },
     "execution_count": 16,
     "metadata": {},
     "output_type": "execute_result"
    }
   ],
   "source": [
    "stopwords_english = stopwords.words('english')\n",
    "def cleaning_stopwords(text):\n",
    "    return \" \".join([word for word in str(text).split() if word not in stopwords_english])\n",
    "dataset['text'] = dataset['text'].apply(lambda text: cleaning_stopwords(text))\n",
    "dataset['text'].tail()"
   ]
  },
  {
   "cell_type": "code",
   "execution_count": 17,
   "id": "3d805fb9",
   "metadata": {},
   "outputs": [
    {
     "data": {
      "text/plain": [
       "799994    sick spending day laying bed listening taylors...\n",
       "799995                                           gmail down\n",
       "799996                                rest peace farrah sad\n",
       "799997    ericurbane sounds like rival flagging ads much...\n",
       "799998    resit exams summer wishes worked harder first ...\n",
       "Name: text, dtype: object"
      ]
     },
     "execution_count": 17,
     "metadata": {},
     "output_type": "execute_result"
    }
   ],
   "source": [
    "def cleaning_punctuations(text):\n",
    "    translator = str.maketrans('', '', string.punctuation)\n",
    "    return text.translate(translator)\n",
    "dataset['text']= dataset['text'].apply(lambda x: cleaning_punctuations(x))\n",
    "dataset['text'].tail()"
   ]
  },
  {
   "cell_type": "code",
   "execution_count": 18,
   "id": "6c88a3c1",
   "metadata": {},
   "outputs": [
    {
     "data": {
      "text/plain": [
       "799994    sick spending day laying bed listening taylorswif\n",
       "799995                                           gmail down\n",
       "799996                                rest peace farrah sad\n",
       "799997    ericurbane sounds like rival flagging ads much...\n",
       "799998    resit exams summer wishes worked harder first ...\n",
       "Name: text, dtype: object"
      ]
     },
     "execution_count": 18,
     "metadata": {},
     "output_type": "execute_result"
    }
   ],
   "source": [
    "def cleaning_num_url(text):\n",
    "    str = re.sub(r'(.)1+', r'1', text) #removing repeating \n",
    "    str = re.sub('((www.[^s]+)|(https?://[^s]+))',' ',str) #removing urls\n",
    "    str = re.sub('[0-9]+', '', str) #removing numbers\n",
    "    return str\n",
    "dataset['text'] = dataset['text'].apply(lambda x: cleaning_num_url(x))\n",
    "dataset['text'].tail()"
   ]
  },
  {
   "cell_type": "code",
   "execution_count": 19,
   "id": "be9b11a4",
   "metadata": {},
   "outputs": [
    {
     "data": {
      "text/plain": [
       "RegexpTokenizer(pattern=                                                     text  target\n",
       "799999                  love healthuandpets u guys r best       4\n",
       "800000  im meeting one besties tonight cant wait  girl...       4\n",
       "800001  darealsunisakim thanks twitter add sunisa got ...       4\n",
       "800002  sick really cheap hurts much eat real food plu...       4\n",
       "800003                      lovesbrooklyn effect everyone       4\n",
       "...                                                   ...     ...\n",
       "799994  sick spending day laying bed listening taylorswif       0\n",
       "799995                                         gmail down       0\n",
       "799996                              rest peace farrah sad       0\n",
       "799997  ericurbane sounds like rival flagging ads much...       0\n",
       "799998  resit exams summer wishes worked harder first ...       0\n",
       "\n",
       "[1599999 rows x 2 columns], gaps=\"[\\\\w']+\", discard_empty=True, flags=re.UNICODE|re.MULTILINE|re.DOTALL)"
      ]
     },
     "execution_count": 19,
     "metadata": {},
     "output_type": "execute_result"
    }
   ],
   "source": [
    "# Getting tokenization of tweet text\n",
    "from nltk.tokenize import RegexpTokenizer\n",
    "RegexpTokenizer(dataset,\"[\\w']+\")"
   ]
  },
  {
   "cell_type": "code",
   "execution_count": 20,
   "id": "53e7ba28",
   "metadata": {},
   "outputs": [],
   "source": [
    "## split dataset\n",
    "dtf_train, dtf_test = train_test_split(dataset, test_size=0.3)\n",
    "## get target\n",
    "y_train = dtf_train[\"target\"].values\n",
    "y_test = dtf_test[\"target\"].values"
   ]
  },
  {
   "cell_type": "code",
   "execution_count": 21,
   "id": "4c8a209b",
   "metadata": {},
   "outputs": [],
   "source": [
    "vectorizer = feature_extraction.text.TfidfVectorizer(max_features=10000, ngram_range=(1,2))"
   ]
  },
  {
   "cell_type": "code",
   "execution_count": 22,
   "id": "10c6b36d",
   "metadata": {},
   "outputs": [],
   "source": [
    "corpus = dtf_train[\"text\"]\n",
    "vectorizer.fit(corpus)\n",
    "X_train = vectorizer.transform(corpus)\n",
    "dic_vocabulary = vectorizer.vocabulary_"
   ]
  },
  {
   "cell_type": "code",
   "execution_count": 23,
   "id": "aab69e2a",
   "metadata": {},
   "outputs": [
    {
     "data": {
      "text/plain": [
       "5938"
      ]
     },
     "execution_count": 23,
     "metadata": {},
     "output_type": "execute_result"
    }
   ],
  },
  {
   "cell_type": "code",
   "execution_count": 24,
   "id": "8df70eec",
   "metadata": {},
   "outputs": [
    {
     "name": "stderr",
     "output_type": "stream",
     "text": [
      "C:\\ProgramData\\Anaconda3\\lib\\site-packages\\sklearn\\utils\\deprecation.py:87: FutureWarning: Function get_feature_names is deprecated; get_feature_names is deprecated in 1.0 and will be removed in 1.2. Please use get_feature_names_out instead.\n",
      "  warnings.warn(msg, category=FutureWarning)\n",
      "C:\\Users\\Eswar's Dell\\AppData\\Local\\Temp\\ipykernel_21128\\169826798.py:7: FutureWarning: The frame.append method is deprecated and will be removed from pandas in a future version. Use pandas.concat instead.\n",
      "  dtf_features = dtf_features.append(pd.DataFrame(\n",
      "C:\\Users\\Eswar's Dell\\AppData\\Local\\Temp\\ipykernel_21128\\169826798.py:7: FutureWarning: The frame.append method is deprecated and will be removed from pandas in a future version. Use pandas.concat instead.\n",
      "  dtf_features = dtf_features.append(pd.DataFrame(\n"
     ]
    }
   ],
   "source": [
    "y = dtf_train[\"target\"]\n",
    "X_names = vectorizer.get_feature_names()\n",
    "p_value_limit = 0.95\n",
    "dtf_features = pd.DataFrame()\n",
    "for cat in np.unique(y):\n",
    "    chi2, p = feature_selection.chi2(X_train, y==cat)\n",
    "    dtf_features = dtf_features.append(pd.DataFrame(\n",
    "                   {\"feature\":X_names, \"score\":1-p, \"y\":cat}))\n",
    "    dtf_features = dtf_features.sort_values([\"y\",\"score\"], \n",
    "                    ascending=[True,False])\n",
    "    dtf_features = dtf_features[dtf_features[\"score\"]>p_value_limit]\n",
    "X_names = dtf_features[\"feature\"].unique().tolist()"
   ]
  },
  {
   "cell_type": "code",
   "execution_count": 25,
   "id": "1a57882b",
   "metadata": {},
   "outputs": [
    {
     "name": "stdout",
     "output_type": "stream",
     "text": [
      "# 0:\n",
      "  . selected features: 6100\n",
      "  . top features: able,ac,accident,ache,aches,add,added,adorable,afford,afraid\n",
      " \n",
      "# 4:\n",
      "  . selected features: 6100\n",
      "  . top features: able,ac,accident,ache,aches,add,added,adorable,afford,afraid\n",
      " \n"
     ]
    }
   ],
   "source": [
    "for cat in np.unique(y):\n",
    "   print(\"# {}:\".format(cat))\n",
    "   print(\"  . selected features:\",\n",
    "         len(dtf_features[dtf_features[\"y\"]==cat]))\n",
    "   print(\"  . top features:\", \",\".join(\n",
    "dtf_features[dtf_features[\"y\"]==cat][\"feature\"].values[:10]))\n",
    "   print(\" \")"
   ]
  },
  {
   "cell_type": "code",
   "execution_count": 26,
   "id": "9a01ac3d",
   "metadata": {},
   "outputs": [],
   "source": [
    "vectorizer = feature_extraction.text.TfidfVectorizer(vocabulary=X_names)\n",
    "vectorizer.fit(corpus)\n",
    "X_train = vectorizer.transform(corpus)\n",
    "dic_vocabulary = vectorizer.vocabulary_"
   ]
  },
  {
   "cell_type": "code",
   "execution_count": 87,
   "id": "2391c578",
   "metadata": {},
   "outputs": [],
   "source": [
    "classifier = naive_bayes.MultinomialNB()"
   ]
  },
  {
   "cell_type": "code",
   "execution_count": 88,
   "id": "cd390edd",
   "metadata": {},
   "outputs": [],
   "source": [
    "## pipeline\n",
    "model = pipeline.Pipeline([(\"vectorizer\", vectorizer),  \n",
    "                           (\"classifier\", classifier)])\n",
    "## train classifier\n",
    "model[\"classifier\"].fit(X_train, y_train)\n",
    "## test\n",
    "X_test = dtf_test[\"text\"].values\n",
    "y_pred = model.predict(X_test)\n",
    "predicted_prob = model.predict_proba(X_test)"
   ]
  },
  {
   "cell_type": "code",
   "execution_count": 89,
   "id": "122c8a5a",
   "metadata": {},
   "outputs": [
    {
     "name": "stdout",
     "output_type": "stream",
     "text": [
      "[[179489  60620]\n",
      " [ 55375 184516]]\n",
      "              precision    recall  f1-score   support\n",
      "\n",
      "           0       0.76      0.75      0.76    240109\n",
      "           4       0.75      0.77      0.76    239891\n",
      "\n",
      "    accuracy                           0.76    480000\n",
      "   macro avg       0.76      0.76      0.76    480000\n",
      "weighted avg       0.76      0.76      0.76    480000\n",
      "\n",
      "0.75834375\n"
     ]
    }
   ],
   "source": [
    "from sklearn.metrics import classification_report, confusion_matrix, accuracy_score \n",
    "# Results\n",
    "print(confusion_matrix(y_test,y_pred))\n",
    "print(classification_report(y_test,y_pred))\n",
    "print(accuracy_score(y_test, y_pred))"
   ]
  },
  {
   "cell_type": "code",
   "execution_count": 90,
   "id": "2c077186",
   "metadata": {},
   "outputs": [
    {
     "data": {
      "text/plain": [
       "(array([0.5, 1.5]), [Text(0, 0.5, '0'), Text(0, 1.5, '4')])"
      ]
     },
     "execution_count": 90,
     "metadata": {},
     "output_type": "execute_result"
    },
    {
     "data": {
      "image/png": "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\n",
      "text/plain": [
       "<Figure size 432x288 with 1 Axes>"
      ]
     },
     "metadata": {
      "needs_background": "light"
     },
     "output_type": "display_data"
    }
   ],
   "source": [
    "import sklearn.metrics as metrics\n",
    "classes = np.unique(y_test)\n",
    "cm = metrics.confusion_matrix(y_test, y_pred)\n",
    "fig, ax = plt.subplots()\n",
    "sns.heatmap(cm, annot=True, fmt='d', ax=ax, cmap=plt.cm.Blues, \n",
    "            cbar=False)\n",
    "ax.set(xlabel=\"Pred\", ylabel=\"True\", xticklabels=classes, \n",
    "       yticklabels=classes, title=\"Confusion matrix\")\n",
    "plt.yticks(rotation=0)"
   ]
  },
  {
   "cell_type": "code",
   "execution_count": 33,
   "id": "5f07cf0a",
   "metadata": {},
   "outputs": [],
   "source": [
    "from sklearn.tree import DecisionTreeClassifier\n",
    "classifier = DecisionTreeClassifier()"
   ]
  },
  {
   "cell_type": "code",
   "execution_count": 34,
   "id": "7bbba161",
   "metadata": {},
   "outputs": [],
   "source": [
    "## pipeline\n",
    "model = pipeline.Pipeline([(\"vectorizer\", vectorizer),  \n",
    "                           (\"classifier\", classifier)])\n",
    "## train classifier\n",
    "model[\"classifier\"].fit(X_train, y_train)\n",
    "## test\n",
    "X_test = dtf_test[\"text\"].values\n",
    "y_pred = model.predict(X_test)\n",
    "predicted_prob = model.predict_proba(X_test)"
   ]
  },
  {
   "cell_type": "code",
   "execution_count": 35,
   "id": "8c237bce",
   "metadata": {},
   "outputs": [
    {
     "name": "stdout",
     "output_type": "stream",
     "text": [
      "[[167830  72605]\n",
      " [ 66521 173044]]\n",
      "              precision    recall  f1-score   support\n",
      "\n",
      "           0       0.72      0.70      0.71    240435\n",
      "           4       0.70      0.72      0.71    239565\n",
      "\n",
      "    accuracy                           0.71    480000\n",
      "   macro avg       0.71      0.71      0.71    480000\n",
      "weighted avg       0.71      0.71      0.71    480000\n",
      "\n",
      "0.7101541666666666\n"
     ]
    }
   ],
   "source": [
    "from sklearn.metrics import classification_report, confusion_matrix, accuracy_score \n",
    "print(confusion_matrix(y_test,y_pred))\n",
    "print(classification_report(y_test,y_pred))\n",
    "print(accuracy_score(y_test, y_pred))"
   ]
  },
  {
   "cell_type": "code",
   "execution_count": 36,
   "id": "7b9d8b15",
   "metadata": {},
   "outputs": [
    {
     "data": {
      "text/plain": [
       "(array([0.5, 1.5]), [Text(0, 0.5, '0'), Text(0, 1.5, '4')])"
      ]
     },
     "execution_count": 36,
     "metadata": {},
     "output_type": "execute_result"
    },
    {
     "data": {
      "image/png": "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\n",
      "text/plain": [
       "<Figure size 432x288 with 1 Axes>"
      ]
     },
     "metadata": {
      "needs_background": "light"
     },
     "output_type": "display_data"
    }
   ],
   "source": [
    "import sklearn.metrics as metrics\n",
    "classes = np.unique(y_test)\n",
    "cm = metrics.confusion_matrix(y_test, y_pred)\n",
    "fig, ax = plt.subplots()\n",
    "sns.heatmap(cm, annot=True, fmt='d', ax=ax, cmap=plt.cm.Blues, cbar=False)\n",
    "ax.set(xlabel=\"Pred\", ylabel=\"True\", xticklabels=classes, yticklabels=classes, title=\"Confusion matrix\")\n",
    "plt.yticks(rotation=0)"
   ]
  },
  {
   "cell_type": "code",
   "execution_count": 27,
   "id": "dcc9f459",
   "metadata": {},
   "outputs": [],
   "source": [
    "from sklearn.neural_network import MLPClassifier\n",
    "classifier =x`(activation='relu', solver='adam', alpha=1e-5, hidden_layer_sizes=(10,10,10), random_state=1, verbose=True)"
   ]
  },
  {
   "cell_type": "code",
   "execution_count": 28,
   "id": "5951068b",
   "metadata": {},
   "outputs": [
    {
     "name": "stdout",
     "output_type": "stream",
     "text": [
      "Iteration 1, loss = 0.48691092\n",
      "Iteration 2, loss = 0.47051424\n",
      "Iteration 3, loss = 0.46632024\n",
      "Iteration 4, loss = 0.46349170\n",
      "Iteration 5, loss = 0.46114561\n",
      "Iteration 6, loss = 0.45908682\n",
      "Iteration 7, loss = 0.45723118\n",
      "Iteration 8, loss = 0.45560827\n",
      "Iteration 9, loss = 0.45413110\n",
      "Iteration 10, loss = 0.45274981\n",
      "Iteration 11, loss = 0.45159310\n",
      "Iteration 12, loss = 0.45056617\n",
      "Iteration 13, loss = 0.44957879\n",
      "Iteration 14, loss = 0.44872394\n",
      "Iteration 15, loss = 0.44793542\n",
      "Iteration 16, loss = 0.44727687\n",
      "Iteration 17, loss = 0.44659293\n",
      "Iteration 18, loss = 0.44608333\n",
      "Iteration 19, loss = 0.44552987\n",
      "Iteration 20, loss = 0.44509286\n",
      "Iteration 21, loss = 0.44460096\n",
      "Iteration 22, loss = 0.44411034\n",
      "Iteration 23, loss = 0.44377283\n",
      "Iteration 24, loss = 0.44335187\n",
      "Iteration 25, loss = 0.44302412\n",
      "Iteration 26, loss = 0.44267164\n",
      "Iteration 27, loss = 0.44236550\n",
      "Iteration 28, loss = 0.44210013\n",
      "Iteration 29, loss = 0.44181366\n",
      "Iteration 30, loss = 0.44148817\n",
      "Iteration 31, loss = 0.44123007\n",
      "Iteration 32, loss = 0.44102121\n",
      "Iteration 33, loss = 0.44083524\n",
      "Iteration 34, loss = 0.44058260\n",
      "Iteration 35, loss = 0.44030524\n",
      "Iteration 36, loss = 0.44018011\n",
      "Iteration 37, loss = 0.43996976\n",
      "Iteration 38, loss = 0.43980046\n",
      "Iteration 39, loss = 0.43961955\n",
      "Iteration 40, loss = 0.43945692\n",
      "Iteration 41, loss = 0.43928624\n",
      "Iteration 42, loss = 0.43915199\n",
      "Iteration 43, loss = 0.43900551\n",
      "Iteration 44, loss = 0.43888776\n",
      "Iteration 45, loss = 0.43872290\n",
      "Iteration 46, loss = 0.43861230\n",
      "Iteration 47, loss = 0.43850385\n",
      "Iteration 48, loss = 0.43834940\n",
      "Iteration 49, loss = 0.43825214\n",
      "Iteration 50, loss = 0.43817508\n",
      "Iteration 51, loss = 0.43796045\n",
      "Iteration 52, loss = 0.43792003\n",
      "Iteration 53, loss = 0.43789077\n",
      "Iteration 54, loss = 0.43774350\n",
      "Iteration 55, loss = 0.43771697\n",
      "Iteration 56, loss = 0.43760212\n",
      "Iteration 57, loss = 0.43754246\n",
      "Iteration 58, loss = 0.43751133\n",
      "Iteration 59, loss = 0.43738505\n",
      "Iteration 60, loss = 0.43728355\n",
      "Iteration 61, loss = 0.43726227\n",
      "Iteration 62, loss = 0.43714950\n",
      "Iteration 63, loss = 0.43706458\n",
      "Iteration 64, loss = 0.43701010\n",
      "Iteration 65, loss = 0.43691022\n",
      "Iteration 66, loss = 0.43689781\n",
      "Iteration 67, loss = 0.43683478\n",
      "Iteration 68, loss = 0.43681451\n",
      "Iteration 69, loss = 0.43676395\n",
      "Iteration 70, loss = 0.43666033\n",
      "Iteration 71, loss = 0.43661534\n",
      "Iteration 72, loss = 0.43652920\n",
      "Iteration 73, loss = 0.43650941\n",
      "Iteration 74, loss = 0.43650467\n",
      "Iteration 75, loss = 0.43643608\n",
      "Iteration 76, loss = 0.43635950\n",
      "Iteration 77, loss = 0.43631940\n",
      "Iteration 78, loss = 0.43627674\n",
      "Iteration 79, loss = 0.43630392\n",
      "Iteration 80, loss = 0.43619213\n",
      "Iteration 81, loss = 0.43619782\n",
      "Training loss did not improve more than tol=0.000100 for 10 consecutive epochs. Stopping.\n"
     ]
    }
   ],
   "source": [
    "## pipeline\n",
    "model = pipeline.Pipeline([(\"vectorizer\", vectorizer),  \n",
    "                           (\"classifier\", classifier)])\n",
    "## train classifier\n",
    "model[\"classifier\"].fit(X_train, y_train)\n",
    "## test\n",
    "X_test = dtf_test[\"text\"].values\n",
    "y_pred = model.predict(X_test)\n",
    "predicted_prob = model.predict_proba(X_test)"
   ]
  },
  {
   "cell_type": "code",
   "execution_count": 29,
   "id": "cc139290",
   "metadata": {},
   "outputs": [
    {
     "name": "stdout",
     "output_type": "stream",
     "text": [
      "[[182984  57451]\n",
      " [ 52221 187344]]\n",
      "              precision    recall  f1-score   support\n",
      "\n",
      "           0       0.78      0.76      0.77    240435\n",
      "           4       0.77      0.78      0.77    239565\n",
      "\n",
      "    accuracy                           0.77    480000\n",
      "   macro avg       0.77      0.77      0.77    480000\n",
      "weighted avg       0.77      0.77      0.77    480000\n",
      "\n",
      "0.7715166666666666\n"
     ]
    }
   ],
   "source": [
    "from sklearn.metrics import classification_report, confusion_matrix, accuracy_score \n",
    "# Results\n",
    "print(confusion_matrix(y_test,y_pred))\n",
    "print(classification_report(y_test,y_pred))\n",
    "print(accuracy_score(y_test, y_pred))"
   ]
  },
  {
   "cell_type": "code",
   "execution_count": 30,
   "id": "ae59a240",
   "metadata": {},
   "outputs": [
    {
     "data": {
      "text/plain": [
       "(array([0.5, 1.5]), [Text(0, 0.5, '0'), Text(0, 1.5, '4')])"
      ]
     },
     "execution_count": 30,
     "metadata": {},
     "output_type": "execute_result"
    },
    {
     "data": {
      "image/png": "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\n",
      "text/plain": [
       "<Figure size 432x288 with 1 Axes>"
      ]
     },
     "metadata": {
      "needs_background": "light"
     },
     "output_type": "display_data"
    }
   ],
   "source": [
    "## Plot confusion matrix\n",
    "import sklearn.metrics as metrics\n",
    "classes = np.unique(y_test)\n",
    "cm = metrics.confusion_matrix(y_test, y_pred)\n",
    "fig, ax = plt.subplots()\n",
    "sns.heatmap(cm, annot=True, fmt=*d', ax=ax, cmap=plt.cm.Blues, cbar=False)\n",
    "ax.set(xlabel=\"Pred\", ylabel=\"True\", xticklabels=classes, yticklabels=classes, title=\"Confusion matrix\")\n",
    "plt.yticks(rotation=0)"
   ]
  },
  {
   "cell_type": "code",
   "execution_count": 32,
   "id": "452349a8",
   "metadata": {},
   "outputs": [
    {
     "data": {
      "text/plain": [
       "0.7715356648235447"
      ]
     },
     "execution_count": 32,
     "metadata": {},
     "output_type": "execute_result"
    }
   ],
   "source": [
    "from sklearn.metrics import roc_auc_score\n",
    "roc_auc_score(y_test,y_pred)"
   ]
  },
  {
   "cell_type": "code",
   "execution_count": null,
   "id": "9e63c738",
   "metadata": {},
   "outputs": [],
   "source": []
  }
 ],
 "metadata": {
  "kernelspec": {
   "display_name": "Python 3 (ipykernel)",
   "language": "python",
   "name": "python3"
  },
  "language_info": {
   "codemirror_mode": {
    "name": "ipython",
    "version": 3
   },
   "file_extension": ".py",
   "mimetype": "text/x-python",
   "name": "python",
   "nbconvert_exporter": "python",
   "pygments_lexer": "ipython3",
   "version": "3.9.12"
  }
 },
 "nbformat": 4,
 "nbformat_minor": 5
}
